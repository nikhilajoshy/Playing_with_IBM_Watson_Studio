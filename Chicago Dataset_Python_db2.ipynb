{
    "cells": [
        {
            "cell_type": "code",
            "execution_count": 2,
            "metadata": {},
            "outputs": [],
            "source": "import ibm_db\n"
        },
        {
            "cell_type": "code",
            "execution_count": 3,
            "metadata": {},
            "outputs": [],
            "source": "dsn_hostname = \"dashdb-txn-sbox-yp-dal09-10.services.dal.bluemix.net\" # e.g.: \"dashdb-txn-sbox-yp-dal09-04.services.dal.bluemix.net\"\ndsn_uid = \"ggh54155\"        # e.g. \"abc12345\"\ndsn_pwd = \"jqp98nf+zslk1bw2\"      # e.g. \"7dBZ3wWt9XN6$o0J\"\n\ndsn_driver = \"{IBM DB2 ODBC DRIVER}\"\ndsn_database = \"BLUDB\"            # e.g. \"BLUDB\"\ndsn_port = \"50000\"                # e.g. \"50000\" \ndsn_protocol = \"TCPIP\"            # i.e. \"TCPIP\""
        },
        {
            "cell_type": "code",
            "execution_count": 4,
            "metadata": {},
            "outputs": [
                {
                    "name": "stdout",
                    "output_type": "stream",
                    "text": "DRIVER={IBM DB2 ODBC DRIVER};DATABASE=BLUDB;HOSTNAME=dashdb-txn-sbox-yp-dal09-10.services.dal.bluemix.net;PORT=50000;PROTOCOL=TCPIP;UID=ggh54155;PWD=jqp98nf+zslk1bw2;\n"
                }
            ],
            "source": "#Create the dsn connection string\ndsn = (\n    \"DRIVER={0};\"\n    \"DATABASE={1};\"\n    \"HOSTNAME={2};\"\n    \"PORT={3};\"\n    \"PROTOCOL={4};\"\n    \"UID={5};\"\n    \"PWD={6};\").format(dsn_driver, dsn_database, dsn_hostname, dsn_port, dsn_protocol, dsn_uid, dsn_pwd)\n\n#print the connection string to check correct values are specified\nprint(dsn)"
        },
        {
            "cell_type": "code",
            "execution_count": 5,
            "metadata": {},
            "outputs": [
                {
                    "name": "stdout",
                    "output_type": "stream",
                    "text": "Connected to database:  BLUDB as user:  ggh54155 on host:  dashdb-txn-sbox-yp-dal09-10.services.dal.bluemix.net\n"
                }
            ],
            "source": "#Create database connection\n\ntry:\n    conn = ibm_db.connect(dsn, \"\", \"\")\n    print (\"Connected to database: \", dsn_database, \"as user: \", dsn_uid, \"on host: \", dsn_hostname)\n\nexcept:\n    print (\"Unable to connect: \", ibm_db.conn_errormsg() )"
        },
        {
            "cell_type": "code",
            "execution_count": 7,
            "metadata": {},
            "outputs": [
                {
                    "name": "stdout",
                    "output_type": "stream",
                    "text": "Collecting ipython-sql\n  Downloading ipython_sql-0.4.0-py3-none-any.whl (19 kB)\nCollecting sqlparse\n  Downloading sqlparse-0.4.1-py3-none-any.whl (42 kB)\n\u001b[K     |\u2588\u2588\u2588\u2588\u2588\u2588\u2588\u2588\u2588\u2588\u2588\u2588\u2588\u2588\u2588\u2588\u2588\u2588\u2588\u2588\u2588\u2588\u2588\u2588\u2588\u2588\u2588\u2588\u2588\u2588\u2588\u2588| 42 kB 2.8 MB/s  eta 0:00:01\n\u001b[?25hRequirement already satisfied: six in /opt/conda/envs/Python-3.7-main/lib/python3.7/site-packages (from ipython-sql) (1.15.0)\nCollecting prettytable<1\n  Downloading prettytable-0.7.2.tar.bz2 (21 kB)\nRequirement already satisfied: ipython>=1.0 in /opt/conda/envs/Python-3.7-main/lib/python3.7/site-packages (from ipython-sql) (7.15.0)\nRequirement already satisfied: sqlalchemy>=0.6.7 in /opt/conda/envs/Python-3.7-main/lib/python3.7/site-packages (from ipython-sql) (1.3.17)\nRequirement already satisfied: ipython-genutils>=0.1.0 in /opt/conda/envs/Python-3.7-main/lib/python3.7/site-packages (from ipython-sql) (0.2.0)\nRequirement already satisfied: decorator in /opt/conda/envs/Python-3.7-main/lib/python3.7/site-packages (from ipython>=1.0->ipython-sql) (4.4.2)\nRequirement already satisfied: pexpect; sys_platform != \"win32\" in /opt/conda/envs/Python-3.7-main/lib/python3.7/site-packages (from ipython>=1.0->ipython-sql) (4.8.0)\nRequirement already satisfied: setuptools>=18.5 in /opt/conda/envs/Python-3.7-main/lib/python3.7/site-packages (from ipython>=1.0->ipython-sql) (47.3.1.post20200622)\nRequirement already satisfied: jedi>=0.10 in /opt/conda/envs/Python-3.7-main/lib/python3.7/site-packages (from ipython>=1.0->ipython-sql) (0.17.1)\nRequirement already satisfied: pickleshare in /opt/conda/envs/Python-3.7-main/lib/python3.7/site-packages (from ipython>=1.0->ipython-sql) (0.7.5)\nRequirement already satisfied: prompt-toolkit!=3.0.0,!=3.0.1,<3.1.0,>=2.0.0 in /opt/conda/envs/Python-3.7-main/lib/python3.7/site-packages (from ipython>=1.0->ipython-sql) (3.0.5)\nRequirement already satisfied: backcall in /opt/conda/envs/Python-3.7-main/lib/python3.7/site-packages (from ipython>=1.0->ipython-sql) (0.2.0)\nRequirement already satisfied: traitlets>=4.2 in /opt/conda/envs/Python-3.7-main/lib/python3.7/site-packages (from ipython>=1.0->ipython-sql) (4.3.3)\nRequirement already satisfied: pygments in /opt/conda/envs/Python-3.7-main/lib/python3.7/site-packages (from ipython>=1.0->ipython-sql) (2.6.1)\nRequirement already satisfied: ptyprocess>=0.5 in /opt/conda/envs/Python-3.7-main/lib/python3.7/site-packages (from pexpect; sys_platform != \"win32\"->ipython>=1.0->ipython-sql) (0.6.0)\nRequirement already satisfied: parso<0.8.0,>=0.7.0 in /opt/conda/envs/Python-3.7-main/lib/python3.7/site-packages (from jedi>=0.10->ipython>=1.0->ipython-sql) (0.7.0)\nRequirement already satisfied: wcwidth in /opt/conda/envs/Python-3.7-main/lib/python3.7/site-packages (from prompt-toolkit!=3.0.0,!=3.0.1,<3.1.0,>=2.0.0->ipython>=1.0->ipython-sql) (0.2.4)\nBuilding wheels for collected packages: prettytable\n  Building wheel for prettytable (setup.py) ... \u001b[?25ldone\n\u001b[?25h  Created wheel for prettytable: filename=prettytable-0.7.2-py3-none-any.whl size=13698 sha256=38b632e56a0cf1efb170e2d48fa18df5093d6341e325e059a4569bd603559df3\n  Stored in directory: /tmp/wsuser/.cache/pip/wheels/8c/76/0b/eb9eb3da7e2335e3577e3f96a0ae9f74f206e26457bd1a2bc8\nSuccessfully built prettytable\nInstalling collected packages: sqlparse, prettytable, ipython-sql\nSuccessfully installed ipython-sql-0.4.0 prettytable-0.7.2 sqlparse-0.4.1\nNote: you may need to restart the kernel to use updated packages.\n"
                }
            ],
            "source": "pip install ipython-sql\n"
        },
        {
            "cell_type": "code",
            "execution_count": 8,
            "metadata": {},
            "outputs": [
                {
                    "name": "stdout",
                    "output_type": "stream",
                    "text": "Requirement already satisfied: ibm-db-sa in /opt/conda/envs/Python-3.7-main/lib/python3.7/site-packages (0.3.5)\nRequirement already satisfied: ibm-db>=2.0.0 in /opt/conda/envs/Python-3.7-main/lib/python3.7/site-packages (from ibm-db-sa) (3.0.2)\nRequirement already satisfied: sqlalchemy>=0.7.3 in /opt/conda/envs/Python-3.7-main/lib/python3.7/site-packages (from ibm-db-sa) (1.3.17)\nNote: you may need to restart the kernel to use updated packages.\n"
                }
            ],
            "source": "pip install ibm-db-sa\n"
        },
        {
            "cell_type": "code",
            "execution_count": 13,
            "metadata": {},
            "outputs": [],
            "source": "%sql ibm_db_sa://ggh54155:jqp98nf%2Bzslk1bw2@dashdb-txn-sbox-yp-dal09-10.services.dal.bluemix.net:50000/BLUDB\n#run this after the next line"
        },
        {
            "cell_type": "code",
            "execution_count": 12,
            "metadata": {},
            "outputs": [],
            "source": "%load_ext sql\n"
        },
        {
            "cell_type": "code",
            "execution_count": 13,
            "metadata": {},
            "outputs": [
                {
                    "name": "stdout",
                    "output_type": "stream",
                    "text": " * ibm_db_sa://ggh54155:***@dashdb-txn-sbox-yp-dal09-10.services.dal.bluemix.net:50000/BLUDB\nDone.\n"
                },
                {
                    "data": {
                        "text/html": "<table>\n    <tr>\n        <th>1</th>\n    </tr>\n    <tr>\n        <td>533</td>\n    </tr>\n</table>",
                        "text/plain": "[(Decimal('533'),)]"
                    },
                    "execution_count": 13,
                    "metadata": {},
                    "output_type": "execute_result"
                }
            ],
            "source": "%sql select count(distinct id) from GGH54155.CHICAGO_CRIME_DATA\n\n"
        },
        {
            "cell_type": "code",
            "execution_count": 12,
            "metadata": {},
            "outputs": [
                {
                    "name": "stdout",
                    "output_type": "stream",
                    "text": " * ibm_db_sa://ggh54155:***@dashdb-txn-sbox-yp-dal09-10.services.dal.bluemix.net:50000/BLUDB\nDone.\n"
                },
                {
                    "data": {
                        "text/html": "<table>\n    <tr>\n        <th>id</th>\n        <th>case_number</th>\n        <th>DATE</th>\n        <th>block</th>\n        <th>iucr</th>\n        <th>primary_type</th>\n        <th>description</th>\n        <th>location_description</th>\n        <th>arrest</th>\n        <th>domestic</th>\n        <th>beat</th>\n        <th>district</th>\n        <th>ward</th>\n        <th>community_area_number</th>\n        <th>fbicode</th>\n        <th>x_coordinate</th>\n        <th>y_coordinate</th>\n        <th>YEAR</th>\n        <th>updatedon</th>\n        <th>latitude</th>\n        <th>longitude</th>\n        <th>location</th>\n    </tr>\n    <tr>\n        <td>3512276</td>\n        <td>HK587712</td>\n        <td>08/28/2004 05:50:56 PM</td>\n        <td>047XX S KEDZIE AVE</td>\n        <td>890</td>\n        <td>THEFT</td>\n        <td>FROM BUILDING</td>\n        <td>SMALL RETAIL STORE</td>\n        <td>FALSE</td>\n        <td>FALSE</td>\n        <td>911</td>\n        <td>9</td>\n        <td>14</td>\n        <td>58</td>\n        <td>6</td>\n        <td>1155838</td>\n        <td>1873050</td>\n        <td>2004</td>\n        <td>02/10/2018 03:50:01 PM</td>\n        <td>41.80744050</td>\n        <td>-87.70395585</td>\n        <td>(41.8074405, -87.703955849)</td>\n    </tr>\n    <tr>\n        <td>3406613</td>\n        <td>HK456306</td>\n        <td>06/26/2004 12:40:00 PM</td>\n        <td>009XX N CENTRAL PARK AVE</td>\n        <td>820</td>\n        <td>THEFT</td>\n        <td>$500 AND UNDER</td>\n        <td>OTHER</td>\n        <td>FALSE</td>\n        <td>FALSE</td>\n        <td>1112</td>\n        <td>11</td>\n        <td>27</td>\n        <td>23</td>\n        <td>6</td>\n        <td>1152206</td>\n        <td>1906127</td>\n        <td>2004</td>\n        <td>02/28/2018 03:56:25 PM</td>\n        <td>41.89827996</td>\n        <td>-87.71640551</td>\n        <td>(41.898279962, -87.716405505)</td>\n    </tr>\n    <tr>\n        <td>8002131</td>\n        <td>HT233595</td>\n        <td>04/04/2011 05:45:00 AM</td>\n        <td>043XX S WABASH AVE</td>\n        <td>820</td>\n        <td>THEFT</td>\n        <td>$500 AND UNDER</td>\n        <td>NURSING HOME/RETIREMENT HOME</td>\n        <td>FALSE</td>\n        <td>FALSE</td>\n        <td>221</td>\n        <td>2</td>\n        <td>3</td>\n        <td>38</td>\n        <td>6</td>\n        <td>1177436</td>\n        <td>1876313</td>\n        <td>2011</td>\n        <td>02/10/2018 03:50:01 PM</td>\n        <td>41.81593313</td>\n        <td>-87.62464213</td>\n        <td>(41.815933131, -87.624642127)</td>\n    </tr>\n    <tr>\n        <td>7903289</td>\n        <td>HT133522</td>\n        <td>12/30/2010 04:30:00 PM</td>\n        <td>083XX S KINGSTON AVE</td>\n        <td>840</td>\n        <td>THEFT</td>\n        <td>FINANCIAL ID THEFT: OVER $300</td>\n        <td>RESIDENCE</td>\n        <td>FALSE</td>\n        <td>FALSE</td>\n        <td>423</td>\n        <td>4</td>\n        <td>7</td>\n        <td>46</td>\n        <td>6</td>\n        <td>1194622</td>\n        <td>1850125</td>\n        <td>2010</td>\n        <td>02/10/2018 03:50:01 PM</td>\n        <td>41.74366532</td>\n        <td>-87.56246276</td>\n        <td>(41.743665322, -87.562462756)</td>\n    </tr>\n    <tr>\n        <td>10402076</td>\n        <td>HZ138551</td>\n        <td>02/02/2016 07:30:00 PM</td>\n        <td>033XX W 66TH ST</td>\n        <td>820</td>\n        <td>THEFT</td>\n        <td>$500 AND UNDER</td>\n        <td>ALLEY</td>\n        <td>FALSE</td>\n        <td>FALSE</td>\n        <td>831</td>\n        <td>8</td>\n        <td>15</td>\n        <td>66</td>\n        <td>6</td>\n        <td>1155240</td>\n        <td>1860661</td>\n        <td>2016</td>\n        <td>02/10/2018 03:50:01 PM</td>\n        <td>41.77345530</td>\n        <td>-87.70648047</td>\n        <td>(41.773455295, -87.706480471)</td>\n    </tr>\n    <tr>\n        <td>7732712</td>\n        <td>HS540106</td>\n        <td>09/29/2010 07:59:00 AM</td>\n        <td>006XX W CHICAGO AVE</td>\n        <td>810</td>\n        <td>THEFT</td>\n        <td>OVER $500</td>\n        <td>PARKING LOT/GARAGE(NON.RESID.)</td>\n        <td>FALSE</td>\n        <td>FALSE</td>\n        <td>1323</td>\n        <td>12</td>\n        <td>27</td>\n        <td>24</td>\n        <td>6</td>\n        <td>1171668</td>\n        <td>1905607</td>\n        <td>2010</td>\n        <td>02/10/2018 03:50:01 PM</td>\n        <td>41.89644677</td>\n        <td>-87.64493868</td>\n        <td>(41.896446772, -87.644938678)</td>\n    </tr>\n    <tr>\n        <td>10769475</td>\n        <td>HZ534771</td>\n        <td>11/30/2016 01:15:00 AM</td>\n        <td>050XX N KEDZIE AVE</td>\n        <td>810</td>\n        <td>THEFT</td>\n        <td>OVER $500</td>\n        <td>STREET</td>\n        <td>FALSE</td>\n        <td>FALSE</td>\n        <td>1713</td>\n        <td>17</td>\n        <td>33</td>\n        <td>14</td>\n        <td>6</td>\n        <td>1154133</td>\n        <td>1933314</td>\n        <td>2016</td>\n        <td>02/10/2018 03:50:01 PM</td>\n        <td>41.97284491</td>\n        <td>-87.70860008</td>\n        <td>(41.972844913, -87.708600079)</td>\n    </tr>\n    <tr>\n        <td>4494340</td>\n        <td>HL793243</td>\n        <td>12/16/2005 04:45:00 PM</td>\n        <td>005XX E PERSHING RD</td>\n        <td>860</td>\n        <td>THEFT</td>\n        <td>RETAIL THEFT</td>\n        <td>GROCERY FOOD STORE</td>\n        <td>TRUE</td>\n        <td>FALSE</td>\n        <td>213</td>\n        <td>2</td>\n        <td>3</td>\n        <td>38</td>\n        <td>6</td>\n        <td>1180448</td>\n        <td>1879234</td>\n        <td>2005</td>\n        <td>02/28/2018 03:56:25 PM</td>\n        <td>41.82387989</td>\n        <td>-87.61350386</td>\n        <td>(41.823879885, -87.613503857)</td>\n    </tr>\n    <tr>\n        <td>3778925</td>\n        <td>HL149610</td>\n        <td>01/28/2005 05:00:00 PM</td>\n        <td>100XX S WASHTENAW AVE</td>\n        <td>810</td>\n        <td>THEFT</td>\n        <td>OVER $500</td>\n        <td>STREET</td>\n        <td>FALSE</td>\n        <td>FALSE</td>\n        <td>2211</td>\n        <td>22</td>\n        <td>19</td>\n        <td>72</td>\n        <td>6</td>\n        <td>1160129</td>\n        <td>1838040</td>\n        <td>2005</td>\n        <td>02/28/2018 03:56:25 PM</td>\n        <td>41.71128051</td>\n        <td>-87.68917910</td>\n        <td>(41.711280513, -87.689179097)</td>\n    </tr>\n    <tr>\n        <td>3324217</td>\n        <td>HK361551</td>\n        <td>05/13/2004 02:15:00 PM</td>\n        <td>033XX W BELMONT AVE</td>\n        <td>820</td>\n        <td>THEFT</td>\n        <td>$500 AND UNDER</td>\n        <td>SMALL RETAIL STORE</td>\n        <td>FALSE</td>\n        <td>FALSE</td>\n        <td>1733</td>\n        <td>17</td>\n        <td>35</td>\n        <td>21</td>\n        <td>6</td>\n        <td>1153590</td>\n        <td>1921084</td>\n        <td>2004</td>\n        <td>02/28/2018 03:56:25 PM</td>\n        <td>41.93929582</td>\n        <td>-87.71092344</td>\n        <td>(41.939295821, -87.710923442)</td>\n    </tr>\n</table>",
                        "text/plain": "[(3512276, 'HK587712', '08/28/2004 05:50:56 PM', '047XX S KEDZIE AVE', '890', 'THEFT', 'FROM BUILDING', 'SMALL RETAIL STORE', 'FALSE', 'FALSE', 911, 9, 14, 58, '6', 1155838, 1873050, 2004, '02/10/2018 03:50:01 PM', Decimal('41.80744050'), Decimal('-87.70395585'), '(41.8074405, -87.703955849)'),\n (3406613, 'HK456306', '06/26/2004 12:40:00 PM', '009XX N CENTRAL PARK AVE', '820', 'THEFT', '$500 AND UNDER', 'OTHER', 'FALSE', 'FALSE', 1112, 11, 27, 23, '6', 1152206, 1906127, 2004, '02/28/2018 03:56:25 PM', Decimal('41.89827996'), Decimal('-87.71640551'), '(41.898279962, -87.716405505)'),\n (8002131, 'HT233595', '04/04/2011 05:45:00 AM', '043XX S WABASH AVE', '820', 'THEFT', '$500 AND UNDER', 'NURSING HOME/RETIREMENT HOME', 'FALSE', 'FALSE', 221, 2, 3, 38, '6', 1177436, 1876313, 2011, '02/10/2018 03:50:01 PM', Decimal('41.81593313'), Decimal('-87.62464213'), '(41.815933131, -87.624642127)'),\n (7903289, 'HT133522', '12/30/2010 04:30:00 PM', '083XX S KINGSTON AVE', '840', 'THEFT', 'FINANCIAL ID THEFT: OVER $300', 'RESIDENCE', 'FALSE', 'FALSE', 423, 4, 7, 46, '6', 1194622, 1850125, 2010, '02/10/2018 03:50:01 PM', Decimal('41.74366532'), Decimal('-87.56246276'), '(41.743665322, -87.562462756)'),\n (10402076, 'HZ138551', '02/02/2016 07:30:00 PM', '033XX W 66TH ST', '820', 'THEFT', '$500 AND UNDER', 'ALLEY', 'FALSE', 'FALSE', 831, 8, 15, 66, '6', 1155240, 1860661, 2016, '02/10/2018 03:50:01 PM', Decimal('41.77345530'), Decimal('-87.70648047'), '(41.773455295, -87.706480471)'),\n (7732712, 'HS540106', '09/29/2010 07:59:00 AM', '006XX W CHICAGO AVE', '810', 'THEFT', 'OVER $500', 'PARKING LOT/GARAGE(NON.RESID.)', 'FALSE', 'FALSE', 1323, 12, 27, 24, '6', 1171668, 1905607, 2010, '02/10/2018 03:50:01 PM', Decimal('41.89644677'), Decimal('-87.64493868'), '(41.896446772, -87.644938678)'),\n (10769475, 'HZ534771', '11/30/2016 01:15:00 AM', '050XX N KEDZIE AVE', '810', 'THEFT', 'OVER $500', 'STREET', 'FALSE', 'FALSE', 1713, 17, 33, 14, '6', 1154133, 1933314, 2016, '02/10/2018 03:50:01 PM', Decimal('41.97284491'), Decimal('-87.70860008'), '(41.972844913, -87.708600079)'),\n (4494340, 'HL793243', '12/16/2005 04:45:00 PM', '005XX E PERSHING RD', '860', 'THEFT', 'RETAIL THEFT', 'GROCERY FOOD STORE', 'TRUE', 'FALSE', 213, 2, 3, 38, '6', 1180448, 1879234, 2005, '02/28/2018 03:56:25 PM', Decimal('41.82387989'), Decimal('-87.61350386'), '(41.823879885, -87.613503857)'),\n (3778925, 'HL149610', '01/28/2005 05:00:00 PM', '100XX S WASHTENAW AVE', '810', 'THEFT', 'OVER $500', 'STREET', 'FALSE', 'FALSE', 2211, 22, 19, 72, '6', 1160129, 1838040, 2005, '02/28/2018 03:56:25 PM', Decimal('41.71128051'), Decimal('-87.68917910'), '(41.711280513, -87.689179097)'),\n (3324217, 'HK361551', '05/13/2004 02:15:00 PM', '033XX W BELMONT AVE', '820', 'THEFT', '$500 AND UNDER', 'SMALL RETAIL STORE', 'FALSE', 'FALSE', 1733, 17, 35, 21, '6', 1153590, 1921084, 2004, '02/28/2018 03:56:25 PM', Decimal('41.93929582'), Decimal('-87.71092344'), '(41.939295821, -87.710923442)')]"
                    },
                    "execution_count": 12,
                    "metadata": {},
                    "output_type": "execute_result"
                }
            ],
            "source": "%sql select * from GGH54155.CHICAGO_CRIME_DATA limit 10;"
        },
        {
            "cell_type": "code",
            "execution_count": 14,
            "metadata": {},
            "outputs": [
                {
                    "name": "stdout",
                    "output_type": "stream",
                    "text": " * ibm_db_sa://ggh54155:***@dashdb-txn-sbox-yp-dal09-10.services.dal.bluemix.net:50000/BLUDB\nDone.\n"
                },
                {
                    "data": {
                        "text/html": "<table>\n    <tr>\n        <th>1</th>\n    </tr>\n    <tr>\n        <td>163</td>\n    </tr>\n</table>",
                        "text/plain": "[(Decimal('163'),)]"
                    },
                    "execution_count": 14,
                    "metadata": {},
                    "output_type": "execute_result"
                }
            ],
            "source": "%sql select count(*) from GGH54155.CHICAGO_CRIME_DATA where arrest='TRUE';"
        },
        {
            "cell_type": "code",
            "execution_count": 17,
            "metadata": {},
            "outputs": [
                {
                    "name": "stdout",
                    "output_type": "stream",
                    "text": " * ibm_db_sa://ggh54155:***@dashdb-txn-sbox-yp-dal09-10.services.dal.bluemix.net:50000/BLUDB\nDone.\n"
                },
                {
                    "data": {
                        "text/html": "<table>\n    <tr>\n        <th>primary_type</th>\n    </tr>\n    <tr>\n        <td>CRIMINAL TRESPA</td>\n    </tr>\n    <tr>\n        <td>NARCOTICS</td>\n    </tr>\n    <tr>\n        <td>ROBBERY</td>\n    </tr>\n    <tr>\n        <td>THEFT</td>\n    </tr>\n</table>",
                        "text/plain": "[('CRIMINAL TRESPA',), ('NARCOTICS',), ('ROBBERY',), ('THEFT',)]"
                    },
                    "execution_count": 17,
                    "metadata": {},
                    "output_type": "execute_result"
                }
            ],
            "source": "%sql select distinct primary_type from GGH54155.CHICAGO_CRIME_DATA where location_description='GAS STATION';"
        },
        {
            "cell_type": "code",
            "execution_count": 25,
            "metadata": {},
            "outputs": [
                {
                    "name": "stdout",
                    "output_type": "stream",
                    "text": " * ibm_db_sa://ggh54155:***@dashdb-txn-sbox-yp-dal09-10.services.dal.bluemix.net:50000/BLUDB\nDone.\n"
                },
                {
                    "data": {
                        "text/html": "<table>\n    <tr>\n        <th>community_area_name</th>\n    </tr>\n    <tr>\n        <td>Belmont Cragin</td>\n    </tr>\n    <tr>\n        <td>Burnside</td>\n    </tr>\n    <tr>\n        <td>Brighton Park</td>\n    </tr>\n    <tr>\n        <td>Bridgeport</td>\n    </tr>\n    <tr>\n        <td>Beverly</td>\n    </tr>\n</table>",
                        "text/plain": "[('Belmont Cragin',),\n ('Burnside',),\n ('Brighton Park',),\n ('Bridgeport',),\n ('Beverly',)]"
                    },
                    "execution_count": 25,
                    "metadata": {},
                    "output_type": "execute_result"
                }
            ],
            "source": "%sql select COMMUNITY_AREA_NAME from GGH54155.CENSUS_DATA where COMMUNITY_AREA_NAME like 'B%';"
        },
        {
            "cell_type": "code",
            "execution_count": 24,
            "metadata": {},
            "outputs": [
                {
                    "name": "stdout",
                    "output_type": "stream",
                    "text": " * ibm_db_sa://ggh54155:***@dashdb-txn-sbox-yp-dal09-10.services.dal.bluemix.net:50000/BLUDB\nDone.\n"
                },
                {
                    "data": {
                        "text/html": "<table>\n    <tr>\n        <th>name_of_school</th>\n    </tr>\n    <tr>\n        <td>Rufus M Hitch Elementary School</td>\n    </tr>\n</table>",
                        "text/plain": "[('Rufus M Hitch Elementary School',)]"
                    },
                    "execution_count": 24,
                    "metadata": {},
                    "output_type": "execute_result"
                }
            ],
            "source": "%sql select NAME_OF_SCHOOL from GGH54155.CHICAGO_PUBLIC_SCHOOLS where COMMUNITY_AREA_NUMBER BETWEEN 10 AND 15 AND HEALTHY_SCHOOL_CERTIFIED='Yes' ;"
        },
        {
            "cell_type": "code",
            "execution_count": 25,
            "metadata": {},
            "outputs": [
                {
                    "name": "stdout",
                    "output_type": "stream",
                    "text": " * ibm_db_sa://ggh54155:***@dashdb-txn-sbox-yp-dal09-10.services.dal.bluemix.net:50000/BLUDB\nDone.\n"
                },
                {
                    "data": {
                        "text/html": "<table>\n    <tr>\n        <th>1</th>\n    </tr>\n    <tr>\n        <td>49.504873</td>\n    </tr>\n</table>",
                        "text/plain": "[(Decimal('49.504873'),)]"
                    },
                    "execution_count": 25,
                    "metadata": {},
                    "output_type": "execute_result"
                }
            ],
            "source": "%sql select AVG(SAFETY_SCORE) from GGH54155.CHICAGO_PUBLIC_SCHOOLS "
        },
        {
            "cell_type": "code",
            "execution_count": 29,
            "metadata": {},
            "outputs": [
                {
                    "name": "stdout",
                    "output_type": "stream",
                    "text": " * ibm_db_sa://ggh54155:***@dashdb-txn-sbox-yp-dal09-10.services.dal.bluemix.net:50000/BLUDB\nDone.\n"
                },
                {
                    "data": {
                        "text/html": "<table>\n    <tr>\n        <th>community_area_name</th>\n    </tr>\n    <tr>\n        <td>NORTH CENTER</td>\n    </tr>\n    <tr>\n        <td>ARCHER HEIGHTS</td>\n    </tr>\n    <tr>\n        <td>NORWOOD PARK</td>\n    </tr>\n    <tr>\n        <td>BRIGHTON PARK</td>\n    </tr>\n    <tr>\n        <td>IRVING PARK</td>\n    </tr>\n</table>",
                        "text/plain": "[('NORTH CENTER',),\n ('ARCHER HEIGHTS',),\n ('NORWOOD PARK',),\n ('BRIGHTON PARK',),\n ('IRVING PARK',)]"
                    },
                    "execution_count": 29,
                    "metadata": {},
                    "output_type": "execute_result"
                }
            ],
            "source": "%sql select COMMUNITY_AREA_NAME from GGH54155.CHICAGO_PUBLIC_SCHOOLS ORDER BY(COLLEGE_ENROLLMENT) DESC LIMIT 5"
        },
        {
            "cell_type": "code",
            "execution_count": 31,
            "metadata": {},
            "outputs": [
                {
                    "name": "stdout",
                    "output_type": "stream",
                    "text": " * ibm_db_sa://ggh54155:***@dashdb-txn-sbox-yp-dal09-10.services.dal.bluemix.net:50000/BLUDB\nDone.\n"
                },
                {
                    "data": {
                        "text/html": "<table>\n    <tr>\n        <th>community_area_name</th>\n    </tr>\n    <tr>\n        <td>WASHINGTON PARK</td>\n    </tr>\n</table>",
                        "text/plain": "[('WASHINGTON PARK',)]"
                    },
                    "execution_count": 31,
                    "metadata": {},
                    "output_type": "execute_result"
                }
            ],
            "source": "%sql select COMMUNITY_AREA_NAME from GGH54155.CHICAGO_PUBLIC_SCHOOLS WHERE SAFETY_SCORE=(SELECT MIN(SAFETY_SCORE) from GGH54155.CHICAGO_PUBLIC_SCHOOLS)"
        },
        {
            "cell_type": "code",
            "execution_count": 53,
            "metadata": {},
            "outputs": [
                {
                    "name": "stdout",
                    "output_type": "stream",
                    "text": " * ibm_db_sa://ggh54155:***@dashdb-txn-sbox-yp-dal09-10.services.dal.bluemix.net:50000/BLUDB\nDone.\n"
                },
                {
                    "data": {
                        "text/html": "<table>\n    <tr>\n        <th>per_capita_income</th>\n    </tr>\n    <tr>\n        <td>13785</td>\n    </tr>\n</table>",
                        "text/plain": "[(13785,)]"
                    },
                    "execution_count": 53,
                    "metadata": {},
                    "output_type": "execute_result"
                }
            ],
            "source": "%sql select PER_CAPITA_INCOME from GGH54155.CENSUS_DATA C, GGH54155.CHICAGO_PUBLIC_SCHOOLS S  WHERE C.COMMUNITY_AREA_NUMBER=S.COMMUNITY_AREA_NUMBER AND S.SAFETY_SCORE=1"
        },
        {
            "cell_type": "code",
            "execution_count": 26,
            "metadata": {},
            "outputs": [
                {
                    "ename": "AttributeError",
                    "evalue": "'ibm_db.IBM_DBConnection' object has no attribute 'close'",
                    "output_type": "error",
                    "traceback": [
                        "\u001b[0;31m---------------------------------------------------------------------------\u001b[0m",
                        "\u001b[0;31mAttributeError\u001b[0m                            Traceback (most recent call last)",
                        "\u001b[0;32m<ipython-input-26-8dd0cd799055>\u001b[0m in \u001b[0;36m<module>\u001b[0;34m\u001b[0m\n\u001b[0;32m----> 1\u001b[0;31m \u001b[0mconn\u001b[0m\u001b[0;34m.\u001b[0m\u001b[0mclose\u001b[0m\u001b[0;34m(\u001b[0m\u001b[0;34m)\u001b[0m\u001b[0;34m\u001b[0m\u001b[0;34m\u001b[0m\u001b[0m\n\u001b[0m",
                        "\u001b[0;31mAttributeError\u001b[0m: 'ibm_db.IBM_DBConnection' object has no attribute 'close'"
                    ]
                }
            ],
            "source": "conn.close()"
        },
        {
            "cell_type": "code",
            "execution_count": null,
            "metadata": {},
            "outputs": [],
            "source": ""
        }
    ],
    "metadata": {
        "kernelspec": {
            "display_name": "Python 3.7",
            "language": "python",
            "name": "python3"
        },
        "language_info": {
            "codemirror_mode": {
                "name": "ipython",
                "version": 3
            },
            "file_extension": ".py",
            "mimetype": "text/x-python",
            "name": "python",
            "nbconvert_exporter": "python",
            "pygments_lexer": "ipython3",
            "version": "3.7.9"
        }
    },
    "nbformat": 4,
    "nbformat_minor": 1
}