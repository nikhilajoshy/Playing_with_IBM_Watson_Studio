{
    "cells": [
        {
            "cell_type": "code",
            "execution_count": 1,
            "metadata": {},
            "outputs": [
                {
                    "name": "stdout",
                    "output_type": "stream",
                    "text": "Collecting ibm_watson\n  Downloading ibm-watson-4.7.1.tar.gz (385 kB)\n\u001b[K     |\u2588\u2588\u2588\u2588\u2588\u2588\u2588\u2588\u2588\u2588\u2588\u2588\u2588\u2588\u2588\u2588\u2588\u2588\u2588\u2588\u2588\u2588\u2588\u2588\u2588\u2588\u2588\u2588\u2588\u2588\u2588\u2588| 385 kB 18.9 MB/s eta 0:00:01\n\u001b[?25hCollecting wget\n  Downloading wget-3.2.zip (10 kB)\nRequirement already satisfied: requests<3.0,>=2.0 in /opt/conda/envs/Python-3.7-main/lib/python3.7/site-packages (from ibm_watson) (2.24.0)\nRequirement already satisfied: python_dateutil>=2.5.3 in /opt/conda/envs/Python-3.7-main/lib/python3.7/site-packages (from ibm_watson) (2.8.1)\nCollecting websocket-client==0.48.0\n  Downloading websocket_client-0.48.0-py2.py3-none-any.whl (198 kB)\n\u001b[K     |\u2588\u2588\u2588\u2588\u2588\u2588\u2588\u2588\u2588\u2588\u2588\u2588\u2588\u2588\u2588\u2588\u2588\u2588\u2588\u2588\u2588\u2588\u2588\u2588\u2588\u2588\u2588\u2588\u2588\u2588\u2588\u2588| 198 kB 20.8 MB/s eta 0:00:01\n\u001b[?25hCollecting ibm_cloud_sdk_core==1.7.3\n  Downloading ibm-cloud-sdk-core-1.7.3.tar.gz (27 kB)\nRequirement already satisfied: certifi>=2017.4.17 in /opt/conda/envs/Python-3.7-main/lib/python3.7/site-packages (from requests<3.0,>=2.0->ibm_watson) (2020.12.5)\nRequirement already satisfied: urllib3!=1.25.0,!=1.25.1,<1.26,>=1.21.1 in /opt/conda/envs/Python-3.7-main/lib/python3.7/site-packages (from requests<3.0,>=2.0->ibm_watson) (1.25.9)\nRequirement already satisfied: chardet<4,>=3.0.2 in /opt/conda/envs/Python-3.7-main/lib/python3.7/site-packages (from requests<3.0,>=2.0->ibm_watson) (3.0.4)\nRequirement already satisfied: idna<3,>=2.5 in /opt/conda/envs/Python-3.7-main/lib/python3.7/site-packages (from requests<3.0,>=2.0->ibm_watson) (2.9)\nRequirement already satisfied: six>=1.5 in /opt/conda/envs/Python-3.7-main/lib/python3.7/site-packages (from python_dateutil>=2.5.3->ibm_watson) (1.15.0)\nRequirement already satisfied: PyJWT>=1.7.1 in /opt/conda/envs/Python-3.7-main/lib/python3.7/site-packages (from ibm_cloud_sdk_core==1.7.3->ibm_watson) (1.7.1)\nBuilding wheels for collected packages: ibm-watson, wget, ibm-cloud-sdk-core\n  Building wheel for ibm-watson (setup.py) ... \u001b[?25ldone\n\u001b[?25h  Created wheel for ibm-watson: filename=ibm_watson-4.7.1-py3-none-any.whl size=379130 sha256=b6e4a07011a7f54b77ef4a3dc848183bd58a815edac535d033165ab8e90555a6\n  Stored in directory: /tmp/wsuser/.cache/pip/wheels/63/0c/16/b2af79aace901934f32f1503a95b338c7bdca6ab2cfa0881e6\n  Building wheel for wget (setup.py) ... \u001b[?25ldone\n\u001b[?25h  Created wheel for wget: filename=wget-3.2-py3-none-any.whl size=9681 sha256=cc2f7e4aca41476fa950d87bfeca042243ad941be4d71ce5d097037ed3e5401f\n  Stored in directory: /tmp/wsuser/.cache/pip/wheels/a1/b6/7c/0e63e34eb06634181c63adacca38b79ff8f35c37e3c13e3c02\n  Building wheel for ibm-cloud-sdk-core (setup.py) ... \u001b[?25ldone\n\u001b[?25h  Created wheel for ibm-cloud-sdk-core: filename=ibm_cloud_sdk_core-1.7.3-py3-none-any.whl size=45941 sha256=35e24faab6e96b58589ee7bc2e2459e3d7566a79f2087ab74530f7c1902655d9\n  Stored in directory: /tmp/wsuser/.cache/pip/wheels/c6/5f/fb/c2daef3706ded7e718641a60d097be3116a6b70a8f236753f2\nSuccessfully built ibm-watson wget ibm-cloud-sdk-core\nInstalling collected packages: websocket-client, ibm-cloud-sdk-core, ibm-watson, wget\n  Attempting uninstall: ibm-cloud-sdk-core\n    Found existing installation: ibm-cloud-sdk-core 3.2.0\n    Uninstalling ibm-cloud-sdk-core-3.2.0:\n      Successfully uninstalled ibm-cloud-sdk-core-3.2.0\nSuccessfully installed ibm-cloud-sdk-core-1.7.3 ibm-watson-4.7.1 websocket-client-0.48.0 wget-3.2\n"
                }
            ],
            "source": "!pip install ibm_watson wget"
        },
        {
            "cell_type": "code",
            "execution_count": 3,
            "metadata": {},
            "outputs": [],
            "source": "from ibm_watson import SpeechToTextV1 \nimport json\nfrom ibm_cloud_sdk_core.authenticators import IAMAuthenticator"
        },
        {
            "cell_type": "code",
            "execution_count": 4,
            "metadata": {},
            "outputs": [
                {
                    "data": {
                        "text/plain": "<ibm_watson.speech_to_text_v1_adapter.SpeechToTextV1Adapter at 0x7f7cdc517550>"
                    },
                    "execution_count": 4,
                    "metadata": {},
                    "output_type": "execute_result"
                }
            ],
            "source": "url_s2t = \"https://api.eu-gb.speech-to-text.watson.cloud.ibm.com/instances/e9f9f2b7-9044-412a-8d64-234450d4fce2\"\niam_apikey_s2t = \"dYKbVIOrqeXs2y4AaJ1D1jSvxsb7VRgVISG4gAHzQ8dP\"\nauthenticator = IAMAuthenticator(iam_apikey_s2t)\ns2t = SpeechToTextV1(authenticator=authenticator)\ns2t.set_service_url(url_s2t)\ns2t"
        },
        {
            "cell_type": "code",
            "execution_count": 5,
            "metadata": {},
            "outputs": [
                {
                    "name": "stdout",
                    "output_type": "stream",
                    "text": "--2020-12-10 12:17:46--  https://s3-api.us-geo.objectstorage.softlayer.net/cf-courses-data/CognitiveClass/PY0101EN/labs/PolynomialRegressionandPipelines.mp3\nResolving s3-api.us-geo.objectstorage.softlayer.net (s3-api.us-geo.objectstorage.softlayer.net)... 67.228.254.196\nConnecting to s3-api.us-geo.objectstorage.softlayer.net (s3-api.us-geo.objectstorage.softlayer.net)|67.228.254.196|:443... connected.\nHTTP request sent, awaiting response... 200 OK\nLength: 4234179 (4.0M) [audio/mpeg]\nSaving to: \u2018PolynomialRegressionandPipelines.mp3\u2019\n\nPolynomialRegressio 100%[===================>]   4.04M  4.34MB/s    in 0.9s    \n\n2020-12-10 12:17:48 (4.34 MB/s) - \u2018PolynomialRegressionandPipelines.mp3\u2019 saved [4234179/4234179]\n\n"
                }
            ],
            "source": "!wget -O PolynomialRegressionandPipelines.mp3  https://s3-api.us-geo.objectstorage.softlayer.net/cf-courses-data/CognitiveClass/PY0101EN/labs/PolynomialRegressionandPipelines.mp3\n\n"
        },
        {
            "cell_type": "code",
            "execution_count": 14,
            "metadata": {},
            "outputs": [],
            "source": "filename='PolynomialRegressionandPipelines.mp3'\n"
        },
        {
            "cell_type": "code",
            "execution_count": 10,
            "metadata": {},
            "outputs": [],
            "source": "with open(filename, mode=\"rb\")  as wav:\n    response = s2t.recognize(audio=wav, content_type='audio/mp3')"
        },
        {
            "cell_type": "code",
            "execution_count": 12,
            "metadata": {},
            "outputs": [
                {
                    "name": "stderr",
                    "output_type": "stream",
                    "text": "/opt/conda/envs/Python-3.7-main/lib/python3.7/site-packages/ipykernel/__main__.py:4: FutureWarning: pandas.io.json.json_normalize is deprecated, use pandas.json_normalize instead\n"
                },
                {
                    "data": {
                        "text/plain": "<ibm_cloud_sdk_core.detailed_response.DetailedResponse at 0x7f7cdc5177d0>"
                    },
                    "execution_count": 12,
                    "metadata": {},
                    "output_type": "execute_result"
                }
            ],
            "source": "response.result\nfrom pandas.io.json import json_normalize\n\njson_normalize(response.result['results'],\"alternatives\")\nresponse"
        },
        {
            "cell_type": "code",
            "execution_count": 13,
            "metadata": {},
            "outputs": [
                {
                    "data": {
                        "text/plain": "str"
                    },
                    "execution_count": 13,
                    "metadata": {},
                    "output_type": "execute_result"
                }
            ],
            "source": "recognized_text=response.result['results'][0][\"alternatives\"][0][\"transcript\"]\ntype(recognized_text)"
        },
        {
            "cell_type": "code",
            "execution_count": 15,
            "metadata": {},
            "outputs": [
                {
                    "data": {
                        "text/plain": "'in this video we will cover polynomial regression and pipelines '"
                    },
                    "execution_count": 15,
                    "metadata": {},
                    "output_type": "execute_result"
                }
            ],
            "source": "recognized_text"
        },
        {
            "cell_type": "code",
            "execution_count": null,
            "metadata": {},
            "outputs": [],
            "source": ""
        }
    ],
    "metadata": {
        "kernelspec": {
            "display_name": "Python 3.7",
            "language": "python",
            "name": "python3"
        },
        "language_info": {
            "codemirror_mode": {
                "name": "ipython",
                "version": 3
            },
            "file_extension": ".py",
            "mimetype": "text/x-python",
            "name": "python",
            "nbconvert_exporter": "python",
            "pygments_lexer": "ipython3",
            "version": "3.7.9"
        }
    },
    "nbformat": 4,
    "nbformat_minor": 1
}